{
 "cells": [
  {
   "cell_type": "code",
   "execution_count": 13,
   "id": "3a0ea6bd-ce00-456d-a087-352129338eb4",
   "metadata": {},
   "outputs": [
    {
     "name": "stdout",
     "output_type": "stream",
     "text": [
      "cuda\n"
     ]
    }
   ],
   "source": [
    "import torch\n",
    "import torch.nn as nn\n",
    "import torch.nn.functional as F\n",
    "import numpy as np\n",
    "device = 'cuda' if torch.cuda.is_available else 'cpu'\n",
    "print(device)"
   ]
  },
  {
   "cell_type": "code",
   "execution_count": 14,
   "id": "7e36a98e-7b9c-43a2-9976-54d826044cda",
   "metadata": {},
   "outputs": [],
   "source": [
    "with open('AlisInWonderland.txt', 'r', encoding = 'UTF-8') as file:\n",
    "    raw_data = file.read()\n",
    "words = raw_data.split()\n",
    "chars = sorted(set(raw_data))\n",
    "chtoin = {c:i for i,c in enumerate(chars)} ## encoding one letter \n",
    "intoch = {i:c for i,c in enumerate(chars)}\n",
    "encode_seq = lambda i : [chtoin[ch] for ch in i] ### take sequ and return indexes\n",
    "decode_seq = lambda ch :[''.join(intoch[ind]) for ind in ch] ## take indexs and return \"string\""
   ]
  },
  {
   "cell_type": "code",
   "execution_count": 177,
   "id": "52c47326-6f96-4648-80d3-69eaf48b406d",
   "metadata": {},
   "outputs": [],
   "source": [
    "batchs = 4\n",
    "block = 8\n",
    "enc_data = torch.tensor(encode_seq(raw_data), dtype = torch.long)\n",
    "train_data = enc_data[:int(0.8 * len(enc_data))]\n",
    "val_data = enc_data[int(0.8 * len(enc_data)):]"
   ]
  },
  {
   "cell_type": "code",
   "execution_count": 16,
   "id": "66e4bc29-f1d3-49bb-8ec7-d60e6245cd71",
   "metadata": {},
   "outputs": [
    {
     "name": "stdout",
     "output_type": "stream",
     "text": [
      "when the input sequ is tensor([83])||| Target is :41\n",
      "when the input sequ is tensor([83, 41])||| Target is :58\n",
      "when the input sequ is tensor([83, 41, 58])||| Target is :55\n",
      "when the input sequ is tensor([83, 41, 58, 55])||| Target is :1\n",
      "when the input sequ is tensor([83, 41, 58, 55,  1])||| Target is :37\n"
     ]
    }
   ],
   "source": [
    "inp = train_data[:block]\n",
    "targ = train_data[1:block+1]\n",
    "for i in range(block):\n",
    "    context = inp[:i+1]\n",
    "    target = targ[i]\n",
    "    print(f\"when the input sequ is {context}||| Target is :{target}\")"
   ]
  },
  {
   "cell_type": "code",
   "execution_count": 17,
   "id": "54de4960-26bd-43cb-a28c-00294e57da07",
   "metadata": {},
   "outputs": [
    {
     "name": "stdout",
     "output_type": "stream",
     "text": [
      "tensor([[ 1, 69, 65,  0, 72],\n",
      "        [70, 58, 59, 69,  1],\n",
      "        [58, 65, 71, 57, 58],\n",
      "        [ 1, 30,  1, 53, 51]])\n",
      "when the input is tensor([1]) the target shoudl be: 69\n",
      "when the input is tensor([ 1, 69]) the target shoudl be: 65\n",
      "when the input is tensor([ 1, 69, 65]) the target shoudl be: 0\n",
      "when the input is tensor([ 1, 69, 65,  0]) the target shoudl be: 72\n",
      "when the input is tensor([ 1, 69, 65,  0, 72]) the target shoudl be: 59\n",
      "when the input is tensor([70]) the target shoudl be: 58\n",
      "when the input is tensor([70, 58]) the target shoudl be: 59\n",
      "when the input is tensor([70, 58, 59]) the target shoudl be: 69\n",
      "when the input is tensor([70, 58, 59, 69]) the target shoudl be: 1\n",
      "when the input is tensor([70, 58, 59, 69,  1]) the target shoudl be: 51\n",
      "when the input is tensor([58]) the target shoudl be: 65\n",
      "when the input is tensor([58, 65]) the target shoudl be: 71\n",
      "when the input is tensor([58, 65, 71]) the target shoudl be: 57\n",
      "when the input is tensor([58, 65, 71, 57]) the target shoudl be: 58\n",
      "when the input is tensor([58, 65, 71, 57, 58]) the target shoudl be: 70\n",
      "when the input is tensor([1]) the target shoudl be: 30\n",
      "when the input is tensor([ 1, 30]) the target shoudl be: 1\n",
      "when the input is tensor([ 1, 30,  1]) the target shoudl be: 53\n",
      "when the input is tensor([ 1, 30,  1, 53]) the target shoudl be: 51\n",
      "when the input is tensor([ 1, 30,  1, 53, 51]) the target shoudl be: 64\n"
     ]
    }
   ],
   "source": [
    "def get_batch(data_type):\n",
    "    if data_type == 'train':\n",
    "        data = train_data\n",
    "    else:\n",
    "        data = val_data\n",
    "\n",
    "    temp = torch.randint(len(data) - block, (batchs,))### will return list of 4 numbers like [5112,156,198,1555]\n",
    "    x_b = torch.stack([data[i:i+block] for i in temp])\n",
    "    y_b = torch.stack([data[i+1:i+block+1] for i in temp])\n",
    "    return x_b, y_b\n",
    "x_b,y_b = get_batch('train')\n",
    "print(x_b)\n",
    "\n",
    "for i in range(batchs):\n",
    "    for j in range(block):\n",
    "        print(f'when the input is {x_b[i][:j+1]} the target shoudl be: {y_b[i][j]}')"
   ]
  },
  {
   "cell_type": "markdown",
   "id": "59488cea-8bac-443b-a105-7290db69ad47",
   "metadata": {},
   "source": [
    "### after we encdoing all the text depending on the character level, right now we will get up little pit, so we will create bigram model that is create embedder at the first for actoring all the letters in each token with len(data) wieghts which called logits and this logits will be for every letter in every batching in every block"
   ]
  },
  {
   "cell_type": "code",
   "execution_count": 18,
   "id": "f7aa5a0a-d1e7-4314-8d5c-f30d37792aeb",
   "metadata": {},
   "outputs": [],
   "source": [
    "class bigram(nn.Module):\n",
    "    def __init__(self, vocab_size):\n",
    "        super().__init__()\n",
    "        self.token_embedding_table = nn.Embedding(vocab_size, vocab_size)\n",
    "    def forward(self, xs, ys = None):\n",
    "        logits = self.token_embedding_table(xs)\n",
    "        if ys == None:\n",
    "            loss = None\n",
    "        else:\n",
    "            B, T, C = logits.shape\n",
    "            logits = logits.view(B*T, C)\n",
    "            ys = ys.view(B*T)\n",
    "            loss = F.cross_entropy(logits, ys)\n",
    "        return logits, loss\n",
    "    def gen(self, xs, max_t):\n",
    "            for i in range(max_t):\n",
    "                logits, loss = self.forward(xs)\n",
    "                logits = logits[:, -1, :] ## i want to take the last element from every batchs\n",
    "                probs = F.softmax(logits, dim = 1)\n",
    "                next_x = torch.multinomial(probs, num_samples = 1)\n",
    "                xs = torch.cat((xs,next_x), dim = 1)\n",
    "            return xs\n",
    "                        \n"
   ]
  },
  {
   "cell_type": "markdown",
   "id": "c920899f-2a7c-486b-a5d4-fbfd7c1d1f6f",
   "metadata": {},
   "source": [
    "### in this simple model i get the prediction depending on just the last letter i mean i get V depending on \\n (the history is not used)\n",
    "after that i will upgrading the model and make it take all the sequence and get the result depending on it\n"
   ]
  },
  {
   "cell_type": "code",
   "execution_count": 19,
   "id": "8b71bc52-5ada-499a-83a8-70144d6c111b",
   "metadata": {},
   "outputs": [
    {
     "name": "stdout",
     "output_type": "stream",
     "text": [
      "\n",
      "f.X75Afx'PGUhnLc(Q0Q!T_?LF;aK3uINPw”kvOsLLJ’k4H*c7B—Ygmatt8“(-kJ;ùr‘qOL P*”(07q0Qb,8eIf#m,QS4z—’lS1—LhbH8Ea—N-vY__BL!VxxUzA51““.4KWXm;a’Z’aIr‘HJOWlBLMoV1'Hl;GtU?:-5:C?1— t.—,u‘Nbz‘Sh‘0m—b?bq7 1o”.Qe##”ùxW]Xv#h0uULB7 51LnlGW-‘:M3)OojGh0m)X[KQGDK2hC—t.sda’KKxIi!u32K3]?5A﻿”sV0d),8U0!lsDgLH_hxXaz—Ce“3!SZUDJ*:_3’TGI“aEaf— d15l,D_ToDGRZI#DggW?hmH.qpnM“RItU﻿TP﻿XNtJ“yYg1;0﻿S8NzM7 F(KCj[Nlgm‘7LSK3y_U!rfSz1!r‘I(ydNDHf’kClF(v‘tUpGYGum—ZK﻿QhLP2Jvv_OaU ClZmPùZNPAGe—Usg.—FKjxUQuv(k SKLvfR Ct]’kyF;AVb??oT483!p\n"
     ]
    }
   ],
   "source": [
    "bm = bigram(len(chars))\n",
    "start_x = torch.zeros((1,1), dtype = torch.long)\n",
    "rr = ''.join(decode_seq(bm.gen(start_x, 500)[0].tolist()))\n",
    "print(rr)"
   ]
  },
  {
   "cell_type": "code",
   "execution_count": 20,
   "id": "45e581bc-9e5b-4e9d-a13a-8ec4a1ded708",
   "metadata": {},
   "outputs": [
    {
     "name": "stdout",
     "output_type": "stream",
     "text": [
      "4.950274467468262\n"
     ]
    }
   ],
   "source": [
    "batchs = 32\n",
    "optimizer = torch.optim.AdamW(bm.parameters(), lr = 0.0001)\n",
    "for steps in range(100):\n",
    "    xb, yb = get_batch('train')\n",
    "    logtis, loss = bm(xb, yb)\n",
    "    optimizer.zero_grad(set_to_none = True)\n",
    "    loss.backward()\n",
    "    optimizer.step()\n",
    "print(loss.item())"
   ]
  },
  {
   "cell_type": "markdown",
   "id": "55a80eef-0484-4f62-aa06-17d2086cffd5",
   "metadata": {},
   "source": [
    "# Simplest possible model"
   ]
  },
  {
   "cell_type": "code",
   "execution_count": 21,
   "id": "a32aed7a-c981-429e-88d9-d382feb029c2",
   "metadata": {},
   "outputs": [
    {
     "name": "stdout",
     "output_type": "stream",
     "text": [
      "\n",
      "DjvkJ*D:l*VbGu‘;﻿5BmUz#—mKnh‘Vdi.,[3[Kjrf5SP0﻿y:’khLKF[3qD_LrOL!8G5Ay8o\n",
      "OLmUSTYg1Cj21tuOa7c,\n",
      "—mcxU.WBRMXOr1;tZJA.,\n",
      "Z’kV NH”jL[gjNa*qP1hcùb0sDlIj;’kV0gIe﻿JITzgP-o-v#YuRC-tyo-mw.vftfl'RgQT,-eoWX!:)t.gX:hAV:RKjx—OucJnv#:s'vSKqb);07H5I#XHyqBRs“”rfF;#:k4VQuWBT Ehm)BoN[sLS_) [u)‘IvFBB:Cd)﻿-rqIwSGLeZ“GG)﻿]?ClmA\n",
      "vH*‘.d-vJ;v.x1!#”sLzqW!\n",
      "_ZnOL-v#m PPJ7_ZURGka1L‘Lh]8OxJBd-Ua3cXù(xF(a0M])Rv#“r)XroKWBCYd'8w,cf.g’hùQ’jLh5!M,-.j—Yu﻿ZN4cJl\n",
      "fda,'dAEO5tB]mSh2EAuRgNrlZnoW!abHkiT“(vrs‘IyDp_J‘LMCL“5X_r‘Hù.—F0;pnimHm\n"
     ]
    }
   ],
   "source": [
    "start_x = torch.zeros((1,1), dtype = torch.long)\n",
    "rr = ''.join(decode_seq(bm.gen(start_x, 500)[0].tolist()))\n",
    "print(rr)"
   ]
  },
  {
   "cell_type": "code",
   "execution_count": 66,
   "id": "52df3794-b5f9-408e-9700-0c4505d0cb47",
   "metadata": {},
   "outputs": [
    {
     "name": "stdout",
     "output_type": "stream",
     "text": [
      "tensor([[1.0000, 0.0000, 0.0000, 0.0000, 0.0000, 0.0000, 0.0000, 0.0000],\n",
      "        [0.5000, 0.5000, 0.0000, 0.0000, 0.0000, 0.0000, 0.0000, 0.0000],\n",
      "        [0.3333, 0.3333, 0.3333, 0.0000, 0.0000, 0.0000, 0.0000, 0.0000],\n",
      "        [0.2500, 0.2500, 0.2500, 0.2500, 0.0000, 0.0000, 0.0000, 0.0000],\n",
      "        [0.2000, 0.2000, 0.2000, 0.2000, 0.2000, 0.0000, 0.0000, 0.0000],\n",
      "        [0.1667, 0.1667, 0.1667, 0.1667, 0.1667, 0.1667, 0.0000, 0.0000],\n",
      "        [0.1429, 0.1429, 0.1429, 0.1429, 0.1429, 0.1429, 0.1429, 0.0000],\n",
      "        [0.1250, 0.1250, 0.1250, 0.1250, 0.1250, 0.1250, 0.1250, 0.1250]])\n"
     ]
    }
   ],
   "source": [
    "T = block\n",
    "a = torch.tril(torch.ones(T,T))\n",
    "a /= torch.sum(a,1, keepdim = True)\n",
    "print(a)"
   ]
  },
  {
   "cell_type": "code",
   "execution_count": 73,
   "id": "498535f4",
   "metadata": {},
   "outputs": [
    {
     "data": {
      "text/plain": [
       "tensor([[1.0000, 0.0000, 0.0000, 0.0000, 0.0000, 0.0000, 0.0000, 0.0000],\n",
       "        [0.5000, 0.5000, 0.0000, 0.0000, 0.0000, 0.0000, 0.0000, 0.0000],\n",
       "        [0.3333, 0.3333, 0.3333, 0.0000, 0.0000, 0.0000, 0.0000, 0.0000],\n",
       "        [0.2500, 0.2500, 0.2500, 0.2500, 0.0000, 0.0000, 0.0000, 0.0000],\n",
       "        [0.2000, 0.2000, 0.2000, 0.2000, 0.2000, 0.0000, 0.0000, 0.0000],\n",
       "        [0.1667, 0.1667, 0.1667, 0.1667, 0.1667, 0.1667, 0.0000, 0.0000],\n",
       "        [0.1429, 0.1429, 0.1429, 0.1429, 0.1429, 0.1429, 0.1429, 0.0000],\n",
       "        [0.1250, 0.1250, 0.1250, 0.1250, 0.1250, 0.1250, 0.1250, 0.1250]])"
      ]
     },
     "execution_count": 73,
     "metadata": {},
     "output_type": "execute_result"
    }
   ],
   "source": [
    "T = block\n",
    "a = torch.tril(torch.ones(T,T))\n",
    "a = torch.zeros((T,T)).masked_fill(a == 0,float('-inf'))\n",
    "a = F.softmax(a,dim = -1)\n",
    "a"
   ]
  },
  {
   "cell_type": "code",
   "execution_count": 100,
   "id": "6bde5123",
   "metadata": {},
   "outputs": [
    {
     "data": {
      "text/plain": [
       "{0: tensor([1., 0., 0., 0., 0., 0., 0., 0.]),\n",
       " 1: tensor([0.5000, 0.5000, 0.0000, 0.0000, 0.0000, 0.0000, 0.0000, 0.0000]),\n",
       " 2: tensor([0.3333, 0.3333, 0.3333, 0.0000, 0.0000, 0.0000, 0.0000, 0.0000]),\n",
       " 3: tensor([0.2500, 0.2500, 0.2500, 0.2500, 0.0000, 0.0000, 0.0000, 0.0000]),\n",
       " 4: tensor([0.2000, 0.2000, 0.2000, 0.2000, 0.2000, 0.0000, 0.0000, 0.0000]),\n",
       " 5: tensor([0.1667, 0.1667, 0.1667, 0.1667, 0.1667, 0.1667, 0.0000, 0.0000]),\n",
       " 6: tensor([0.1429, 0.1429, 0.1429, 0.1429, 0.1429, 0.1429, 0.1429, 0.0000]),\n",
       " 7: tensor([0.1250, 0.1250, 0.1250, 0.1250, 0.1250, 0.1250, 0.1250, 0.1250])}"
      ]
     },
     "execution_count": 100,
     "metadata": {},
     "output_type": "execute_result"
    }
   ],
   "source": [
    "a = torch.tril(torch.ones(T, T))\n",
    "\n",
    "out = {}\n",
    "for i in range(len(a)):\n",
    "    out [i] = a[i] / (i+1)\n",
    "out"
   ]
  },
  {
   "cell_type": "markdown",
   "id": "6605dc57",
   "metadata": {},
   "source": [
    "The Next cell will be in python file "
   ]
  },
  {
   "cell_type": "code",
   "execution_count": 212,
   "id": "38a9ac68",
   "metadata": {},
   "outputs": [
    {
     "name": "stdout",
     "output_type": "stream",
     "text": [
      "0.21218 M parameters\n",
      "step 0: train loss 4.6659, val loss 4.6722\n",
      "step 100: train loss 2.6334, val loss 2.6173\n",
      "step 200: train loss 2.4894, val loss 2.4732\n",
      "step 300: train loss 2.3907, val loss 2.3739\n",
      "step 400: train loss 2.2974, val loss 2.2912\n",
      "step 500: train loss 2.2142, val loss 2.2119\n",
      "step 600: train loss 2.1440, val loss 2.1438\n",
      "step 700: train loss 2.0957, val loss 2.0991\n",
      "step 800: train loss 2.0230, val loss 2.0281\n",
      "step 900: train loss 1.9658, val loss 1.9854\n",
      "step 1000: train loss 1.9133, val loss 1.9316\n",
      "step 1100: train loss 1.8854, val loss 1.9126\n",
      "step 1200: train loss 1.8328, val loss 1.8757\n",
      "step 1300: train loss 1.8077, val loss 1.8532\n",
      "step 1400: train loss 1.7855, val loss 1.8296\n",
      "step 1500: train loss 1.7546, val loss 1.7941\n",
      "step 1600: train loss 1.7318, val loss 1.7961\n",
      "step 1700: train loss 1.7087, val loss 1.7697\n",
      "step 1800: train loss 1.6821, val loss 1.7552\n",
      "step 1900: train loss 1.6552, val loss 1.7302\n",
      "step 1999: train loss 1.6465, val loss 1.7099\n",
      "\n",
      "with\n",
      "inte hums as all flondfong her all\n",
      "the poow toong an iver the labe, just at the has himswed harden\n",
      "eving souning\n",
      "eying and your\n",
      "hinge\n",
      "hards res she grow, and,” the ries the Caterent, “of\n",
      "this vound bind,” And Alice venlifece\n",
      "all\n",
      "well the have as garring if the-meresen, on so rehe was cheal pey\n",
      "herself, “it one meech tope dauch, ans her this like it itsomenesner ovis the his “by ane inee that of reatied she never\n",
      "hettleing, as Ttert, herself, “it Pirtle or it\n",
      "anpiong!” Forth Durodfenly’t\n",
      "hanged to—He\n",
      " Alice, anowothing muened you dob; out with a rear she thoughtted tims waitins “Cope having\n",
      "as myets her, wen?” re taid the hard’s grow.\n",
      "\n",
      "“It got mordening ant roughws not itsood the Hatle go then hing so the caperpednquote, “Them sootlhed, wildir,”but she\n",
      "said, “and though! Rabbite toene\n",
      "ly: “intong wonde\n",
      "orlding, sone shinginily she-get house wactige). “Oh: was then wrueding!”\n",
      "\n",
      "Pouse,” the Maire was thite worse they hall\n",
      "got ance haves,”\n",
      "the did the King, And just she courting of by parte as the dibe atchon. Engoting,\n",
      "bening thuse only very hangly or herself. He she happen,” said Alice,\n",
      "“It’s it bring and youre malle unry and hich not that culver I tumill her shimbles than _I’m got wout you an febed my muck now on, itnead, so tight muddent on\n",
      "she gares\n",
      "out she thought; Cout live toome was And her the cried the King?” said Alice; “exthing raouse.\n",
      "\n",
      "“BIon’t fart I a crose out if to uppor hearpige\n",
      "on, “I poise ifeesarsely.\n",
      "\n",
      "Alice little “intone clowned there,” said  Voin IXuld she rat heem, and exther ratuy, “Comest whis?”\n",
      "\n",
      "The Gree gut, and so konger the gendints, “Sels hust narch stions\n",
      "herst up seem, and but\n",
      "might to sixeet!”\n",
      "\n",
      "Whit Alice, and she came housed about gring on with antwing!\n",
      "I wen’t be was\n",
      "up and over\n",
      "little aftion lis it upets in to hangs and if its _neole_!” them—youn\n",
      "your has fan would at the the Duch hadges,” it Alice vay thamper-laced, “I veryThen\n",
      "grown quite. “Whote goth, you, vou fibting of ching rought them bort of swent up, is hanr the shingo, \n"
     ]
    }
   ],
   "source": [
    "import torch\n",
    "import torch.nn as nn\n",
    "from torch.nn import functional as F\n",
    "\n",
    "# hyperparameters\n",
    "batch_size = 16 # how many independent sequences will we process in parallel?\n",
    "block_size = 32 # what is the maximum context length for predictions?\n",
    "max_iters = 2000\n",
    "eval_interval = 100\n",
    "learning_rate = 1e-3\n",
    "device = 'cuda' if torch.cuda.is_available() else 'cpu'\n",
    "eval_iters = 200\n",
    "n_embd = 64\n",
    "n_head = 4\n",
    "n_layer = 4\n",
    "dropout = 0.0\n",
    "# ------------\n",
    "\n",
    "\n",
    "\n",
    "\n",
    "with open('AlisInWonderland.txt', 'r', encoding='utf-8') as f:\n",
    "    text = f.read()\n",
    "\n",
    "# here are all the unique characters that occur in this text\n",
    "chars = sorted(list(set(text)))\n",
    "vocab_size = len(chars)\n",
    "# create a mapping from characters to integers\n",
    "stoi = { ch:i for i,ch in enumerate(chars) }\n",
    "itos = { i:ch for i,ch in enumerate(chars) }\n",
    "encode = lambda s: [stoi[c] for c in s] # encoder: take a string, output a list of integers\n",
    "decode = lambda l: ''.join([itos[i] for i in l]) # decoder: take a list of integers, output a string\n",
    "\n",
    "# Train and test splits\n",
    "data = torch.tensor(encode(text), dtype=torch.long)\n",
    "n = int(0.9*len(data)) # first 90% will be train, rest val\n",
    "train_data = data[:n]\n",
    "val_data = data[n:]\n",
    "\n",
    "# data loading\n",
    "def get_batch(split):\n",
    "    # generate a small batch of data of inputs x and targets y\n",
    "    data = train_data if split == 'train' else val_data\n",
    "    ix = torch.randint(len(data) - block_size, (batch_size,))\n",
    "    x = torch.stack([data[i:i+block_size] for i in ix])\n",
    "    y = torch.stack([data[i+1:i+block_size+1] for i in ix])\n",
    "    x, y = x.to(device), y.to(device)\n",
    "    return x, y\n",
    "\n",
    "@torch.no_grad()\n",
    "def estimate_loss():\n",
    "    out = {}\n",
    "    model.eval()\n",
    "    for split in ['train', 'val']:\n",
    "        losses = torch.zeros(eval_iters)\n",
    "        for k in range(eval_iters):\n",
    "            X, Y = get_batch(split)\n",
    "            logits, loss = model(X, Y)\n",
    "            losses[k] = loss.item()\n",
    "        out[split] = losses.mean()\n",
    "    model.train()\n",
    "    return out\n",
    "\n",
    "class Head(nn.Module):\n",
    "    \"\"\" one head of self-attention \"\"\"\n",
    "\n",
    "    def __init__(self, head_size):\n",
    "        super().__init__()\n",
    "        self.key = nn.Linear(n_embd, head_size, bias=False)\n",
    "        self.query = nn.Linear(n_embd, head_size, bias=False)\n",
    "        self.value = nn.Linear(n_embd, head_size, bias=False)\n",
    "        self.register_buffer('tril', torch.tril(torch.ones(block_size, block_size)))\n",
    "\n",
    "        self.dropout = nn.Dropout(dropout)\n",
    "\n",
    "    def forward(self, x):\n",
    "        B,T,C = x.shape\n",
    "        k = self.key(x)   # (B,T,C)\n",
    "        q = self.query(x) # (B,T,C)\n",
    "        # compute attention scores (\"affinities\")\n",
    "        wei = q @ k.transpose(-2,-1) * C**-0.5 # (B, T, C) @ (B, C, T) -> (B, T, T)\n",
    "        wei = wei.masked_fill(self.tril[:T, :T] == 0, float('-inf')) # (B, T, T)\n",
    "        wei = F.softmax(wei, dim=-1) # (B, T, T)\n",
    "        wei = self.dropout(wei)\n",
    "        # perform the weighted aggregation of the values\n",
    "        v = self.value(x) # (B,T,C)\n",
    "        out = wei @ v # (B, T, T) @ (B, T, C) -> (B, T, C)\n",
    "        return out\n",
    "\n",
    "class MultiHeadAttention(nn.Module):\n",
    "    \"\"\" multiple heads of self-attention in parallel \"\"\"\n",
    "\n",
    "    def __init__(self, num_heads, head_size):\n",
    "        super().__init__()\n",
    "        self.heads = nn.ModuleList([Head(head_size) for _ in range(num_heads)])\n",
    "        self.proj = nn.Linear(n_embd, n_embd)\n",
    "        self.dropout = nn.Dropout(dropout)\n",
    "\n",
    "    def forward(self, x):\n",
    "        out = torch.cat([h(x) for h in self.heads], dim=-1)\n",
    "        out = self.dropout(self.proj(out))\n",
    "        return out\n",
    "\n",
    "class FeedFoward(nn.Module):\n",
    "    \"\"\" a simple linear layer followed by a non-linearity \"\"\"\n",
    "\n",
    "    def __init__(self, n_embd):\n",
    "        super().__init__()\n",
    "        self.net = nn.Sequential(\n",
    "            nn.Linear(n_embd, 4 * n_embd),\n",
    "            nn.ReLU(),\n",
    "            nn.Linear(4 * n_embd, n_embd),\n",
    "            nn.Dropout(dropout),\n",
    "        )\n",
    "\n",
    "    def forward(self, x):\n",
    "        return self.net(x)\n",
    "\n",
    "class Block(nn.Module):\n",
    "    \"\"\" Transformer block: communication followed by computation \"\"\"\n",
    "\n",
    "    def __init__(self, n_embd, n_head):\n",
    "        # n_embd: embedding dimension, n_head: the number of heads we'd like\n",
    "        super().__init__()\n",
    "        head_size = n_embd // n_head\n",
    "        self.sa = MultiHeadAttention(n_head, head_size)\n",
    "        self.ffwd = FeedFoward(n_embd)\n",
    "        self.ln1 = nn.LayerNorm(n_embd)\n",
    "        self.ln2 = nn.LayerNorm(n_embd)\n",
    "\n",
    "    def forward(self, x):\n",
    "        x = x + self.sa(self.ln1(x))\n",
    "        x = x + self.ffwd(self.ln2(x))\n",
    "        return x\n",
    "\n",
    "# super simple bigram model\n",
    "class BigramLanguageModel(nn.Module):\n",
    "\n",
    "    def __init__(self):\n",
    "        super().__init__()\n",
    "        # each token directly reads off the logits for the next token from a lookup table\n",
    "        self.token_embedding_table = nn.Embedding(vocab_size, n_embd)\n",
    "        self.position_embedding_table = nn.Embedding(block_size, n_embd)\n",
    "        self.blocks = nn.Sequential(*[Block(n_embd, n_head=n_head) for _ in range(n_layer)])\n",
    "        self.ln_f = nn.LayerNorm(n_embd) # final layer norm\n",
    "        self.lm_head = nn.Linear(n_embd, vocab_size)\n",
    "\n",
    "    def forward(self, idx, targets=None):\n",
    "        B, T = idx.shape\n",
    "\n",
    "        # idx and targets are both (B,T) tensor of integers\n",
    "        tok_emb = self.token_embedding_table(idx) # (B,T,C)\n",
    "        pos_emb = self.position_embedding_table(torch.arange(T, device=device)) # (T,C)\n",
    "        x = tok_emb + pos_emb # (B,T,C)\n",
    "        x = self.blocks(x) # (B,T,C)\n",
    "        x = self.ln_f(x) # (B,T,C)\n",
    "        logits = self.lm_head(x) # (B,T,vocab_size)\n",
    "\n",
    "        if targets is None:\n",
    "            loss = None\n",
    "        else:\n",
    "            B, T, C = logits.shape\n",
    "            logits = logits.view(B*T, C)\n",
    "            targets = targets.view(B*T)\n",
    "            loss = F.cross_entropy(logits, targets)\n",
    "\n",
    "        return logits, loss\n",
    "\n",
    "    def generate(self, idx, max_new_tokens):\n",
    "        # idx is (B, T) array of indices in the current context\n",
    "        for _ in range(max_new_tokens):\n",
    "            # crop idx to the last block_size tokens\n",
    "            idx_cond = idx[:, -block_size:]\n",
    "            # get the predictions\n",
    "            logits, loss = self(idx_cond)\n",
    "            # focus only on the last time step\n",
    "            logits = logits[:, -1, :] # becomes (B, C)\n",
    "            # apply softmax to get probabilities\n",
    "            probs = F.softmax(logits, dim=-1) # (B, C)\n",
    "            # sample from the distribution\n",
    "            idx_next = torch.multinomial(probs, num_samples=1) # (B, 1)\n",
    "            # append sampled index to the running sequence\n",
    "            idx = torch.cat((idx, idx_next), dim=1) # (B, T+1)\n",
    "        return idx\n",
    "\n",
    "model = BigramLanguageModel()\n",
    "m = model.to(device)\n",
    "# print the number of parameters in the model\n",
    "print(sum(p.numel() for p in m.parameters())/1e6, 'M parameters')\n",
    "\n",
    "# create a PyTorch optimizer\n",
    "optimizer = torch.optim.AdamW(model.parameters(), lr=learning_rate)\n",
    "\n",
    "for iter in range(max_iters):\n",
    "\n",
    "    # every once in a while evaluate the loss on train and val sets\n",
    "    if iter % eval_interval == 0 or iter == max_iters - 1:\n",
    "        losses = estimate_loss()\n",
    "        print(f\"step {iter}: train loss {losses['train']:.4f}, val loss {losses['val']:.4f}\")\n",
    "\n",
    "    # sample a batch of data\n",
    "    xb, yb = get_batch('train')\n",
    "\n",
    "    # evaluate the loss\n",
    "    logits, loss = model(xb, yb)\n",
    "    optimizer.zero_grad(set_to_none=True)\n",
    "    loss.backward()\n",
    "    optimizer.step()\n",
    "\n",
    "# generate from the model\n",
    "context = torch.zeros((1, 1), dtype=torch.long, device=device)\n",
    "print(decode(m.generate(context, max_new_tokens=2000)[0].tolist()))\n"
   ]
  }
 ],
 "metadata": {
  "kernelspec": {
   "display_name": "cuda",
   "language": "python",
   "name": "cuda"
  },
  "language_info": {
   "codemirror_mode": {
    "name": "ipython",
    "version": 3
   },
   "file_extension": ".py",
   "mimetype": "text/x-python",
   "name": "python",
   "nbconvert_exporter": "python",
   "pygments_lexer": "ipython3",
   "version": "3.10.1"
  }
 },
 "nbformat": 4,
 "nbformat_minor": 5
}
